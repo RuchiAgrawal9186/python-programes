{
 "cells": [
  {
   "cell_type": "code",
   "execution_count": 1,
   "metadata": {},
   "outputs": [
    {
     "name": "stdout",
     "output_type": "stream",
     "text": [
      "MySirG\n"
     ]
    }
   ],
   "source": [
    "# 1. Write a python program to create a simple function which prints “MySirG” .\n",
    "\n",
    "def PrintName():\n",
    "    print(\"MySirG\")\n",
    "PrintName()"
   ]
  },
  {
   "cell_type": "code",
   "execution_count": 2,
   "metadata": {},
   "outputs": [
    {
     "name": "stdout",
     "output_type": "stream",
     "text": [
      "value =  10 20\n"
     ]
    }
   ],
   "source": [
    "# 2. Write a python program to create a function which expects two arguments and print them in the function body.\n",
    "\n",
    "def takeValue(a,b):\n",
    "    print(\"value = \",a, b)\n",
    "\n",
    "\n",
    "takeValue(10,20)"
   ]
  },
  {
   "cell_type": "code",
   "execution_count": 3,
   "metadata": {},
   "outputs": [
    {
     "name": "stdout",
     "output_type": "stream",
     "text": [
      "value is =  (10, 20)\n",
      "value is =  (10, 20, 30)\n",
      "value is =  (10,)\n"
     ]
    }
   ],
   "source": [
    "# 3. Write a python program to create a function which expects an unknown number of arguments.\n",
    "\n",
    "def fun(*temp):\n",
    "    print(\"value is = \",temp,sep=\" \")\n",
    "\n",
    "fun(10,20)\n",
    "fun(10,20,30)\n",
    "fun(10)\n",
    "\n",
    "\n"
   ]
  },
  {
   "cell_type": "code",
   "execution_count": 4,
   "metadata": {},
   "outputs": [
    {
     "name": "stdout",
     "output_type": "stream",
     "text": [
      "a = 10 , b = 30 , c = 45\n"
     ]
    }
   ],
   "source": [
    "# 4. Write a python program to create a function which expects kwargs arguments.\n",
    "\n",
    "def fun(a,b,c):\n",
    "    print(f\"a = {a} , b = {b} , c = {c}\")\n",
    "fun(c=45,b=30,a=10)"
   ]
  },
  {
   "cell_type": "code",
   "execution_count": 5,
   "metadata": {},
   "outputs": [
    {
     "name": "stdout",
     "output_type": "stream",
     "text": [
      "1 2 3 4 5 "
     ]
    }
   ],
   "source": [
    "# 5. Write a python program to create a function which expects a list as an argument.\n",
    "\n",
    "def fun(l):\n",
    "    for i in l:\n",
    "        print(i,end=\" \")\n",
    "fun([1,2,3,4,5])"
   ]
  },
  {
   "cell_type": "code",
   "execution_count": 6,
   "metadata": {},
   "outputs": [
    {
     "name": "stdout",
     "output_type": "stream",
     "text": [
      "max of four number = 40\n"
     ]
    }
   ],
   "source": [
    "# 6. Write a python program to create a function that finds a maximum of four numbers.\n",
    "\n",
    "def fun():\n",
    "    a,b,c,d=20,30,40,10\n",
    "    if a>b:\n",
    "        max1=a\n",
    "    else:\n",
    "        max1=b\n",
    "    if c>d:\n",
    "        max2=c\n",
    "    else:\n",
    "        max2=d\n",
    "    if max1>max2:\n",
    "        max=max1\n",
    "    else:\n",
    "        max=max2\n",
    "    print(f\"max of four number = {max}\")\n",
    "\n",
    "\n",
    "\n",
    "fun()"
   ]
  },
  {
   "cell_type": "code",
   "execution_count": 8,
   "metadata": {},
   "outputs": [
    {
     "name": "stdout",
     "output_type": "stream",
     "text": [
      "sum = 15\n"
     ]
    }
   ],
   "source": [
    "# 7. Write a python program to sum all the numbers in a list.\n",
    "\n",
    "def fun(l):\n",
    "    sum=0\n",
    "    for i in l:\n",
    "        sum=sum+i\n",
    "    print(f\"sum = {sum}\")\n",
    "\n",
    "\n",
    "fun([1,2,3,4,5])"
   ]
  },
  {
   "cell_type": "code",
   "execution_count": 9,
   "metadata": {},
   "outputs": [
    {
     "name": "stdout",
     "output_type": "stream",
     "text": [
      "multiply = 120\n"
     ]
    }
   ],
   "source": [
    "# 8. Write a python program to multiply all the numbers in a list.\n",
    "def fun(l):\n",
    "    mul=1\n",
    "    for i in l:\n",
    "        mul=mul*i\n",
    "    print(f\"multiply = {mul}\")\n",
    "\n",
    "\n",
    "fun([1,2,3,4,5])"
   ]
  },
  {
   "cell_type": "code",
   "execution_count": 10,
   "metadata": {},
   "outputs": [
    {
     "name": "stdout",
     "output_type": "stream",
     "text": [
      "the number 15 is in range of 10 to 20\n"
     ]
    }
   ],
   "source": [
    "# 9. Write a python program to create a function to check whether a number falls in a given range.\n",
    "\n",
    "def fun():\n",
    "    start_range=int(input(\"enter a start range number : \"))\n",
    "    end_range=int(input(\"enter ending range number : \"))\n",
    "    number = int(input(\"enter a one number : \"))\n",
    "    if number>=start_range and number<=end_range:\n",
    "        print(f\"the number {number} is in range of {start_range} to {end_range}\")\n",
    "    else:\n",
    "        print(f\"the number {number} is not in given range \")\n",
    "\n",
    "\n",
    "fun()"
   ]
  },
  {
   "cell_type": "code",
   "execution_count": null,
   "metadata": {},
   "outputs": [],
   "source": [
    "# 10. Write a python program to create a function to check whether a given number is even or odd.\n",
    "\n",
    "def fun(n):\n",
    "    if n%2==0:\n",
    "        print(f\"the number {n} is even\")\n",
    "    else:\n",
    "        print(f\"the number {n} is odd\")\n",
    "n=int(input(\"enter a number : \"))\n",
    "fun(n)"
   ]
  }
 ],
 "metadata": {
  "kernelspec": {
   "display_name": "Python 3.10.2 64-bit",
   "language": "python",
   "name": "python3"
  },
  "language_info": {
   "codemirror_mode": {
    "name": "ipython",
    "version": 3
   },
   "file_extension": ".py",
   "mimetype": "text/x-python",
   "name": "python",
   "nbconvert_exporter": "python",
   "pygments_lexer": "ipython3",
   "version": "3.10.2"
  },
  "orig_nbformat": 4,
  "vscode": {
   "interpreter": {
    "hash": "6f21bb2d5c565dbc33d815445cee0d4e3f2f7951520fd8c0e3b4200672f41bfe"
   }
  }
 },
 "nbformat": 4,
 "nbformat_minor": 2
}
