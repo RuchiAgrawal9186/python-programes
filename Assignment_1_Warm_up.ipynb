{
 "cells": [
  {
   "cell_type": "code",
   "execution_count": 1,
   "metadata": {},
   "outputs": [
    {
     "name": "stdout",
     "output_type": "stream",
     "text": [
      "3.10.2 (tags/v3.10.2:a58ebcc, Jan 17 2022, 14:12:15) [MSC v.1929 64 bit (AMD64)]\n"
     ]
    }
   ],
   "source": [
    "# 1. Write a command to get the Python version you are using.\n",
    "\n",
    "import sys\n",
    "print(sys.version)\n"
   ]
  },
  {
   "cell_type": "code",
   "execution_count": 2,
   "metadata": {},
   "outputs": [
    {
     "name": "stdout",
     "output_type": "stream",
     "text": [
      "hello world\n"
     ]
    }
   ],
   "source": [
    "# 2. Write a python script to print Hello Python on the screen directly in the command line.\n",
    "\n",
    "print(\"hello world\")"
   ]
  },
  {
   "cell_type": "code",
   "execution_count": null,
   "metadata": {},
   "outputs": [],
   "source": [
    "# 3. Write a python script and store it in a file and execute the file from the command line.\n",
    "'''\n",
    "PS F:\\Mysirg_Python> python hello.py\n",
    "hello\n",
    " '''"
   ]
  },
  {
   "cell_type": "code",
   "execution_count": null,
   "metadata": {},
   "outputs": [],
   "source": [
    "# 4. Write a python script to print Hello Python on the screen using visual studio code.\n",
    "\n",
    "print(\"helo world\")"
   ]
  },
  {
   "cell_type": "code",
   "execution_count": 3,
   "metadata": {},
   "outputs": [
    {
     "name": "stdout",
     "output_type": "stream",
     "text": [
      "hello\n",
      "python\n"
     ]
    }
   ],
   "source": [
    "# 5. Write a python script to print Hello on the first line and Python on the second line\n",
    "print(\"hello\\n\"\"python\")\n"
   ]
  },
  {
   "cell_type": "code",
   "execution_count": 5,
   "metadata": {},
   "outputs": [
    {
     "name": "stdout",
     "output_type": "stream",
     "text": [
      "\"MySirG\"\n",
      "\"MySirG\"\n"
     ]
    }
   ],
   "source": [
    "# 6. Write a python script to print “MySirG” on the screen\n",
    "print('''\"MySirG\"''')\n",
    "print(\"\\\"MySirG\\\"\") \n"
   ]
  },
  {
   "cell_type": "code",
   "execution_count": 6,
   "metadata": {},
   "outputs": [
    {
     "name": "stdout",
     "output_type": "stream",
     "text": [
      "“Teacher’s Day”\n"
     ]
    }
   ],
   "source": [
    "# 7. Write a python script to print “Teacher’s Day” on the screen\n",
    "print(\"“Teacher’s Day”\")"
   ]
  },
  {
   "cell_type": "code",
   "execution_count": 7,
   "metadata": {},
   "outputs": [
    {
     "name": "stdout",
     "output_type": "stream",
     "text": [
      "Ruchi\n"
     ]
    }
   ],
   "source": [
    "# 8. Write a python script to print the value of a variable. Variable contains your name as data.\n",
    "name=\"Ruchi\"\n",
    "print(name)"
   ]
  },
  {
   "cell_type": "code",
   "execution_count": 11,
   "metadata": {},
   "outputs": [
    {
     "name": "stdout",
     "output_type": "stream",
     "text": [
      "name = Ruchi\n",
      " age = 20\n",
      " eual = BE\n",
      " exper = 6 month\n",
      "\n"
     ]
    }
   ],
   "source": [
    "# 9. Write a python script to create variables to store your name, age, qualification, years of experience and print it.\n",
    "name=\"Ruchi\"\n",
    "age=20\n",
    "qual=\"BE\"\n",
    "exper=\"6 month\"\n",
    "print(f\"name = {name}\\n age = {age}\\n eual = {qual}\\n exper = {exper}\\n\")"
   ]
  },
  {
   "cell_type": "code",
   "execution_count": 12,
   "metadata": {},
   "outputs": [
    {
     "name": "stdout",
     "output_type": "stream",
     "text": [
      "10\n",
      "20\n",
      "30\n"
     ]
    }
   ],
   "source": [
    "# 10. Write a python script to print values of three variables, each in a new line. Variable contains integer values\n",
    "a=10\n",
    "b=20\n",
    "c=30\n",
    "print(a,b,c,sep=\"\\n\")"
   ]
  }
 ],
 "metadata": {
  "kernelspec": {
   "display_name": "Python 3.10.2 64-bit",
   "language": "python",
   "name": "python3"
  },
  "language_info": {
   "codemirror_mode": {
    "name": "ipython",
    "version": 3
   },
   "file_extension": ".py",
   "mimetype": "text/x-python",
   "name": "python",
   "nbconvert_exporter": "python",
   "pygments_lexer": "ipython3",
   "version": "3.10.2"
  },
  "orig_nbformat": 4,
  "vscode": {
   "interpreter": {
    "hash": "6f21bb2d5c565dbc33d815445cee0d4e3f2f7951520fd8c0e3b4200672f41bfe"
   }
  }
 },
 "nbformat": 4,
 "nbformat_minor": 2
}
