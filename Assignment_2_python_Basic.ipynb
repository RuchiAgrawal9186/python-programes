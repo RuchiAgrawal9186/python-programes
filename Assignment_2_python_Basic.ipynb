{
 "cells": [
  {
   "cell_type": "code",
   "execution_count": 1,
   "metadata": {},
   "outputs": [
    {
     "name": "stdout",
     "output_type": "stream",
     "text": [
      "“Learning Python”\n"
     ]
    }
   ],
   "source": [
    "# 1. Write a python script to add comments and print “Learning Python” on screen.\n",
    "# this is comment concept\n",
    "print(\"“Learning Python”\")"
   ]
  },
  {
   "cell_type": "code",
   "execution_count": 3,
   "metadata": {},
   "outputs": [
    {
     "name": "stdout",
     "output_type": "stream",
     "text": [
      "10\n",
      "20\n",
      "30\n",
      "40\n"
     ]
    }
   ],
   "source": [
    "# 2. Write a python script to add multi line comments and print values of four variables,each in a new line. Variable contains any values.\n",
    "'''this is multiline comments example'''\n",
    "a=10\n",
    "b=20   \n",
    "c=30\n",
    "d=40\n",
    "print(a,b,c,d,sep=\"\\n\")"
   ]
  },
  {
   "cell_type": "code",
   "execution_count": 4,
   "metadata": {},
   "outputs": [
    {
     "name": "stdout",
     "output_type": "stream",
     "text": [
      "<class 'int'>\n",
      "<class 'bool'>\n",
      "<class 'str'>\n",
      "<class 'float'>\n",
      "<class 'complex'>\n"
     ]
    }
   ],
   "source": [
    "# 3. Write a python script to print types of variables. Create 5 variables each of them\n",
    "# containing different types of data. (like 35, True, “MySirG”,5.46, 3+4j, etc)\n",
    "\n",
    "a=35\n",
    "b=True\n",
    "c=\"MySirG\"\n",
    "d=5.46 \n",
    "e=3+4j\n",
    "print(type(a))\n",
    "print(type(b))\n",
    "print(type(c))\n",
    "print(type(d))\n",
    "print(type(e))"
   ]
  },
  {
   "cell_type": "code",
   "execution_count": 5,
   "metadata": {},
   "outputs": [
    {
     "name": "stdout",
     "output_type": "stream",
     "text": [
      "a id =  4303421808\n",
      "b id =  4303421808\n"
     ]
    }
   ],
   "source": [
    "# 4. Write a python script to print the id of two variables containing the same integer values.\n",
    "a=5\n",
    "b=5\n",
    "print(\"a id = \",id(a))\n",
    "print(\"b id = \",id(b))"
   ]
  },
  {
   "cell_type": "code",
   "execution_count": 6,
   "metadata": {},
   "outputs": [
    {
     "name": "stdout",
     "output_type": "stream",
     "text": [
      "value = 35 , type = <class 'int'> , id = 4303422768\n",
      "value = True , type = <class 'bool'> , id = 140716006755176\n",
      "value = MySirG , type = <class 'str'> , id = 4389729456\n",
      "value = 5.46 , type = <class 'float'> , id = 4422355920\n"
     ]
    }
   ],
   "source": [
    "'''5. Create four variables in a Python script and assign values of different data types to\n",
    "them. Write a Python script to print value, its type and id of each variable'''\n",
    "\n",
    "a=35\n",
    "b=True\n",
    "c=\"MySirG\"\n",
    "d=5.46\n",
    "print(f\"value = {a} , type = {type(a)} , id = {id(a)}\")\n",
    "print(f\"value = {b} , type = {type(b)} , id = {id(b)}\")\n",
    "print(f\"value = {c} , type = {type(c)} , id = {id(c)}\")\n",
    "print(f\"value = {d} , type = {type(d)} , id = {id(d)}\")\n"
   ]
  },
  {
   "cell_type": "code",
   "execution_count": 7,
   "metadata": {},
   "outputs": [
    {
     "name": "stdout",
     "output_type": "stream",
     "text": [
      "['False', 'None', 'True', 'and', 'as', 'assert', 'async', 'await', 'break', 'class', 'continue', 'def', 'del', 'elif', 'else', 'except', 'finally', 'for', 'from', 'global', 'if', 'import', 'in', 'is', 'lambda', 'nonlocal', 'not', 'or', 'pass', 'raise', 'return', 'try', 'while', 'with', 'yield']\n"
     ]
    }
   ],
   "source": [
    "# 6. Write a python script to print all the keywords\n",
    "\n",
    "import keyword\n",
    "print(keyword.kwlist)"
   ]
  },
  {
   "cell_type": "code",
   "execution_count": null,
   "metadata": {},
   "outputs": [],
   "source": [
    "# 7. On Python shell use help() function and display the list of keywords"
   ]
  },
  {
   "cell_type": "code",
   "execution_count": 1,
   "metadata": {},
   "outputs": [
    {
     "name": "stdout",
     "output_type": "stream",
     "text": [
      "5\n"
     ]
    }
   ],
   "source": [
    "'''8. Create two Python files A0.py and A1.py. Create a variable in A1.py and assign some\n",
    "value to it. Write a python script to import A1 module in A0 and print value of the\n",
    "variable created in A0.py'''\n",
    "\n",
    "import A1\n",
    "print(A1.x)"
   ]
  },
  {
   "cell_type": "code",
   "execution_count": null,
   "metadata": {},
   "outputs": [],
   "source": [
    "# 9. Name the keywords, used as data in the Python script.\n",
    "\n",
    "True\n",
    "False\n",
    "None"
   ]
  },
  {
   "cell_type": "code",
   "execution_count": 4,
   "metadata": {},
   "outputs": [
    {
     "name": "stdout",
     "output_type": "stream",
     "text": [
      "date =  05-09-22 and 12:00 AM\n"
     ]
    }
   ],
   "source": [
    "'''10. Write a python script to display the current date and time. First create variables to\n",
    "store date and time, then display date and time in proper format (like: 13-8-2022 and\n",
    "9:00 PM)'''\n",
    "\n",
    "from datetime import date\n",
    "today=date.today()\n",
    "\n",
    "today_date=today.strftime(\"%d-%m-%y and %I:%M %p\")\n",
    "print(\"date = \",today_date)"
   ]
  }
 ],
 "metadata": {
  "kernelspec": {
   "display_name": "Python 3.10.2 64-bit",
   "language": "python",
   "name": "python3"
  },
  "language_info": {
   "codemirror_mode": {
    "name": "ipython",
    "version": 3
   },
   "file_extension": ".py",
   "mimetype": "text/x-python",
   "name": "python",
   "nbconvert_exporter": "python",
   "pygments_lexer": "ipython3",
   "version": "3.10.2"
  },
  "orig_nbformat": 4,
  "vscode": {
   "interpreter": {
    "hash": "6f21bb2d5c565dbc33d815445cee0d4e3f2f7951520fd8c0e3b4200672f41bfe"
   }
  }
 },
 "nbformat": 4,
 "nbformat_minor": 2
}
